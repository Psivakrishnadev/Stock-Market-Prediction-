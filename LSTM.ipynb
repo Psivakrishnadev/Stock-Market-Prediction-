{
  "nbformat": 4,
  "nbformat_minor": 0,
  "metadata": {
    "kernelspec": {
      "display_name": "Python 3",
      "language": "python",
      "name": "python3"
    },
    "language_info": {
      "codemirror_mode": {
        "name": "ipython",
        "version": 3
      },
      "file_extension": ".py",
      "mimetype": "text/x-python",
      "name": "python",
      "nbconvert_exporter": "python",
      "pygments_lexer": "ipython3",
      "version": "3.6.9"
    },
    "colab": {
      "name": "LSTM.ipynb",
      "provenance": []
    }
  },
  "cells": [
    {
      "cell_type": "markdown",
      "metadata": {
        "id": "Gw42sgdYq5uL",
        "colab_type": "text"
      },
      "source": [
        "### Stock Market Prediction And Forecasting Using Stacked LSTM"
      ]
    },
    {
      "cell_type": "code",
      "metadata": {
        "id": "yuEj6T01q5uf",
        "colab_type": "code",
        "colab": {}
      },
      "source": [
        "### Keras and Tensorflow >2.0"
      ],
      "execution_count": 0,
      "outputs": []
    },
    {
      "cell_type": "code",
      "metadata": {
        "id": "0-npK4AQq5u2",
        "colab_type": "code",
        "outputId": "023c2c8d-60fe-4e83-b12d-be9d4af17f61",
        "colab": {
          "base_uri": "https://localhost:8080/",
          "height": 70
        }
      },
      "source": [
        "### Data Collection\n",
        "import pandas_datareader as pdr\n"
      ],
      "execution_count": 1,
      "outputs": [
        {
          "output_type": "stream",
          "text": [
            "/usr/local/lib/python3.6/dist-packages/pandas_datareader/compat/__init__.py:7: FutureWarning: pandas.util.testing is deprecated. Use the functions in the public API at pandas.testing instead.\n",
            "  from pandas.util.testing import assert_frame_equal\n"
          ],
          "name": "stderr"
        }
      ]
    },
    {
      "cell_type": "code",
      "metadata": {
        "id": "nQOk_cdGq5vd",
        "colab_type": "code",
        "colab": {}
      },
      "source": [
        "import pandas as pd"
      ],
      "execution_count": 0,
      "outputs": []
    },
    {
      "cell_type": "code",
      "metadata": {
        "id": "p_t-KkpnrYJO",
        "colab_type": "code",
        "outputId": "7e7b5aa0-70ea-4b93-a44d-b167f4e32a9e",
        "colab": {
          "base_uri": "https://localhost:8080/",
          "height": 120
        }
      },
      "source": [
        "from google.colab import drive\n",
        "drive.mount('/content/drive')"
      ],
      "execution_count": 0,
      "outputs": [
        {
          "output_type": "stream",
          "text": [
            "Go to this URL in a browser: https://accounts.google.com/o/oauth2/auth?client_id=947318989803-6bn6qk8qdgf4n4g3pfee6491hc0brc4i.apps.googleusercontent.com&redirect_uri=urn%3aietf%3awg%3aoauth%3a2.0%3aoob&response_type=code&scope=email%20https%3a%2f%2fwww.googleapis.com%2fauth%2fdocs.test%20https%3a%2f%2fwww.googleapis.com%2fauth%2fdrive%20https%3a%2f%2fwww.googleapis.com%2fauth%2fdrive.photos.readonly%20https%3a%2f%2fwww.googleapis.com%2fauth%2fpeopleapi.readonly\n",
            "\n",
            "Enter your authorization code:\n",
            "··········\n",
            "Mounted at /content/drive\n"
          ],
          "name": "stdout"
        }
      ]
    },
    {
      "cell_type": "code",
      "metadata": {
        "id": "7EJeWPRRq5vv",
        "colab_type": "code",
        "colab": {}
      },
      "source": [
        "df=pd.read_csv('/content/drive/My Drive/INFY.BO.csv')"
      ],
      "execution_count": 0,
      "outputs": []
    },
    {
      "cell_type": "code",
      "metadata": {
        "id": "iaBmQoYqq5wF",
        "colab_type": "code",
        "outputId": "537e0c41-080c-4b19-cd40-5a64d9b4e837",
        "colab": {
          "base_uri": "https://localhost:8080/",
          "height": 196
        }
      },
      "source": [
        "df.head()"
      ],
      "execution_count": 0,
      "outputs": [
        {
          "output_type": "execute_result",
          "data": {
            "text/html": [
              "<div>\n",
              "<style scoped>\n",
              "    .dataframe tbody tr th:only-of-type {\n",
              "        vertical-align: middle;\n",
              "    }\n",
              "\n",
              "    .dataframe tbody tr th {\n",
              "        vertical-align: top;\n",
              "    }\n",
              "\n",
              "    .dataframe thead th {\n",
              "        text-align: right;\n",
              "    }\n",
              "</style>\n",
              "<table border=\"1\" class=\"dataframe\">\n",
              "  <thead>\n",
              "    <tr style=\"text-align: right;\">\n",
              "      <th></th>\n",
              "      <th>Date</th>\n",
              "      <th>Open</th>\n",
              "      <th>High</th>\n",
              "      <th>Low</th>\n",
              "      <th>Close</th>\n",
              "      <th>Volume</th>\n",
              "      <th>Adj Close</th>\n",
              "    </tr>\n",
              "  </thead>\n",
              "  <tbody>\n",
              "    <tr>\n",
              "      <th>0</th>\n",
              "      <td>28-05-2015</td>\n",
              "      <td>495.00</td>\n",
              "      <td>506.750000</td>\n",
              "      <td>494.075012</td>\n",
              "      <td>503.575012</td>\n",
              "      <td>421436.0</td>\n",
              "      <td>399.109436</td>\n",
              "    </tr>\n",
              "    <tr>\n",
              "      <th>1</th>\n",
              "      <td>29-05-2015</td>\n",
              "      <td>504.25</td>\n",
              "      <td>513.375000</td>\n",
              "      <td>500.937988</td>\n",
              "      <td>505.600006</td>\n",
              "      <td>746392.0</td>\n",
              "      <td>400.714386</td>\n",
              "    </tr>\n",
              "    <tr>\n",
              "      <th>2</th>\n",
              "      <td>01-06-2015</td>\n",
              "      <td>507.50</td>\n",
              "      <td>515.750000</td>\n",
              "      <td>505.825012</td>\n",
              "      <td>511.424988</td>\n",
              "      <td>316300.0</td>\n",
              "      <td>405.330963</td>\n",
              "    </tr>\n",
              "    <tr>\n",
              "      <th>3</th>\n",
              "      <td>02-06-2015</td>\n",
              "      <td>511.25</td>\n",
              "      <td>513.700012</td>\n",
              "      <td>501.274994</td>\n",
              "      <td>502.200012</td>\n",
              "      <td>555136.0</td>\n",
              "      <td>398.019714</td>\n",
              "    </tr>\n",
              "    <tr>\n",
              "      <th>4</th>\n",
              "      <td>03-06-2015</td>\n",
              "      <td>505.00</td>\n",
              "      <td>515.000000</td>\n",
              "      <td>502.062012</td>\n",
              "      <td>505.774994</td>\n",
              "      <td>696708.0</td>\n",
              "      <td>400.852997</td>\n",
              "    </tr>\n",
              "  </tbody>\n",
              "</table>\n",
              "</div>"
            ],
            "text/plain": [
              "         Date    Open        High         Low       Close    Volume   Adj Close\n",
              "0  28-05-2015  495.00  506.750000  494.075012  503.575012  421436.0  399.109436\n",
              "1  29-05-2015  504.25  513.375000  500.937988  505.600006  746392.0  400.714386\n",
              "2  01-06-2015  507.50  515.750000  505.825012  511.424988  316300.0  405.330963\n",
              "3  02-06-2015  511.25  513.700012  501.274994  502.200012  555136.0  398.019714\n",
              "4  03-06-2015  505.00  515.000000  502.062012  505.774994  696708.0  400.852997"
            ]
          },
          "metadata": {
            "tags": []
          },
          "execution_count": 6
        }
      ]
    },
    {
      "cell_type": "code",
      "metadata": {
        "id": "QBJ1M6Kpq5wc",
        "colab_type": "code",
        "outputId": "b30f1f9f-b9dd-49d9-e45a-cc1147c7f86c",
        "colab": {
          "base_uri": "https://localhost:8080/",
          "height": 196
        }
      },
      "source": [
        "df.tail()"
      ],
      "execution_count": 0,
      "outputs": [
        {
          "output_type": "execute_result",
          "data": {
            "text/html": [
              "<div>\n",
              "<style scoped>\n",
              "    .dataframe tbody tr th:only-of-type {\n",
              "        vertical-align: middle;\n",
              "    }\n",
              "\n",
              "    .dataframe tbody tr th {\n",
              "        vertical-align: top;\n",
              "    }\n",
              "\n",
              "    .dataframe thead th {\n",
              "        text-align: right;\n",
              "    }\n",
              "</style>\n",
              "<table border=\"1\" class=\"dataframe\">\n",
              "  <thead>\n",
              "    <tr style=\"text-align: right;\">\n",
              "      <th></th>\n",
              "      <th>Date</th>\n",
              "      <th>Open</th>\n",
              "      <th>High</th>\n",
              "      <th>Low</th>\n",
              "      <th>Close</th>\n",
              "      <th>Volume</th>\n",
              "      <th>Adj Close</th>\n",
              "    </tr>\n",
              "  </thead>\n",
              "  <tbody>\n",
              "    <tr>\n",
              "      <th>1224</th>\n",
              "      <td>20-05-2020</td>\n",
              "      <td>666.549988</td>\n",
              "      <td>673.200012</td>\n",
              "      <td>659.799988</td>\n",
              "      <td>670.200012</td>\n",
              "      <td>230449.0</td>\n",
              "      <td>670.200012</td>\n",
              "    </tr>\n",
              "    <tr>\n",
              "      <th>1225</th>\n",
              "      <td>21-05-2020</td>\n",
              "      <td>668.400024</td>\n",
              "      <td>679.700012</td>\n",
              "      <td>665.299988</td>\n",
              "      <td>672.000000</td>\n",
              "      <td>217317.0</td>\n",
              "      <td>672.000000</td>\n",
              "    </tr>\n",
              "    <tr>\n",
              "      <th>1226</th>\n",
              "      <td>22-05-2020</td>\n",
              "      <td>672.150024</td>\n",
              "      <td>695.250000</td>\n",
              "      <td>672.150024</td>\n",
              "      <td>692.250000</td>\n",
              "      <td>300974.0</td>\n",
              "      <td>692.250000</td>\n",
              "    </tr>\n",
              "    <tr>\n",
              "      <th>1227</th>\n",
              "      <td>26-05-2020</td>\n",
              "      <td>695.000000</td>\n",
              "      <td>699.599976</td>\n",
              "      <td>678.950012</td>\n",
              "      <td>680.150024</td>\n",
              "      <td>208176.0</td>\n",
              "      <td>680.150024</td>\n",
              "    </tr>\n",
              "    <tr>\n",
              "      <th>1228</th>\n",
              "      <td>27-05-2020</td>\n",
              "      <td>682.750000</td>\n",
              "      <td>708.900024</td>\n",
              "      <td>675.099976</td>\n",
              "      <td>705.299988</td>\n",
              "      <td>1274033.0</td>\n",
              "      <td>705.299988</td>\n",
              "    </tr>\n",
              "  </tbody>\n",
              "</table>\n",
              "</div>"
            ],
            "text/plain": [
              "            Date        Open        High  ...       Close     Volume   Adj Close\n",
              "1224  20-05-2020  666.549988  673.200012  ...  670.200012   230449.0  670.200012\n",
              "1225  21-05-2020  668.400024  679.700012  ...  672.000000   217317.0  672.000000\n",
              "1226  22-05-2020  672.150024  695.250000  ...  692.250000   300974.0  692.250000\n",
              "1227  26-05-2020  695.000000  699.599976  ...  680.150024   208176.0  680.150024\n",
              "1228  27-05-2020  682.750000  708.900024  ...  705.299988  1274033.0  705.299988\n",
              "\n",
              "[5 rows x 7 columns]"
            ]
          },
          "metadata": {
            "tags": []
          },
          "execution_count": 7
        }
      ]
    },
    {
      "cell_type": "code",
      "metadata": {
        "id": "L2BF_529q5wo",
        "colab_type": "code",
        "colab": {}
      },
      "source": [
        "df1=df.reset_index()['Close']"
      ],
      "execution_count": 0,
      "outputs": []
    },
    {
      "cell_type": "code",
      "metadata": {
        "id": "TpZcbxmPq5wy",
        "colab_type": "code",
        "outputId": "123a17ef-f730-4350-b164-26653b9b9af5",
        "colab": {
          "base_uri": "https://localhost:8080/",
          "height": 134
        }
      },
      "source": [
        "df1"
      ],
      "execution_count": 0,
      "outputs": [
        {
          "output_type": "execute_result",
          "data": {
            "text/plain": [
              "array([[0.16565446],\n",
              "       [0.17067427],\n",
              "       [0.18511399],\n",
              "       ...,\n",
              "       [0.63336635],\n",
              "       [0.60337137],\n",
              "       [0.66571634]])"
            ]
          },
          "metadata": {
            "tags": []
          },
          "execution_count": 28
        }
      ]
    },
    {
      "cell_type": "code",
      "metadata": {
        "id": "tY8PsmXHq5w9",
        "colab_type": "code",
        "outputId": "325fcbcc-9ba6-4b62-c8ca-a661be86713b",
        "colab": {
          "base_uri": "https://localhost:8080/",
          "height": 281
        }
      },
      "source": [
        "import matplotlib.pyplot as plt\n",
        "plt.plot(df1)"
      ],
      "execution_count": 0,
      "outputs": [
        {
          "output_type": "execute_result",
          "data": {
            "text/plain": [
              "[<matplotlib.lines.Line2D at 0x7fdefb118f98>]"
            ]
          },
          "metadata": {
            "tags": []
          },
          "execution_count": 10
        },
        {
          "output_type": "display_data",
          "data": {
            "image/png": "[encoded data removed]",
            "text/plain": [
              "<Figure size 432x288 with 1 Axes>"
            ]
          },
          "metadata": {
            "tags": [],
            "needs_background": "light"
          }
        }
      ]
    },
    {
      "cell_type": "code",
      "metadata": {
        "id": "Q5_kXnaSq5xS",
        "colab_type": "code",
        "colab": {}
      },
      "source": [
        "### LSTM are sensitive to the scale of the data. so we apply MinMax scaler "
      ],
      "execution_count": 0,
      "outputs": []
    },
    {
      "cell_type": "code",
      "metadata": {
        "id": "mmSyRymFq5xe",
        "colab_type": "code",
        "colab": {}
      },
      "source": [
        "import numpy as np"
      ],
      "execution_count": 0,
      "outputs": []
    },
    {
      "cell_type": "code",
      "metadata": {
        "id": "K0gGwBydq5xo",
        "colab_type": "code",
        "outputId": "b8d9a960-b281-4a50-cc9f-5a1bed5c8c88",
        "colab": {
          "base_uri": "https://localhost:8080/",
          "height": 217
        }
      },
      "source": [
        "df1"
      ],
      "execution_count": 0,
      "outputs": [
        {
          "output_type": "execute_result",
          "data": {
            "text/plain": [
              "0       503.575012\n",
              "1       505.600006\n",
              "2       511.424988\n",
              "3       502.200012\n",
              "4       505.774994\n",
              "           ...    \n",
              "1224    670.200012\n",
              "1225    672.000000\n",
              "1226    692.250000\n",
              "1227    680.150024\n",
              "1228    705.299988\n",
              "Name: Close, Length: 1229, dtype: float64"
            ]
          },
          "metadata": {
            "tags": []
          },
          "execution_count": 13
        }
      ]
    },
    {
      "cell_type": "code",
      "metadata": {
        "id": "srzAYXg1q5xx",
        "colab_type": "code",
        "colab": {}
      },
      "source": [
        "from sklearn.preprocessing import MinMaxScaler\n",
        "scaler=MinMaxScaler(feature_range=(0,1))\n",
        "df1=scaler.fit_transform(np.array(df1).reshape(-1,1))"
      ],
      "execution_count": 0,
      "outputs": []
    },
    {
      "cell_type": "code",
      "metadata": {
        "id": "Fdu7Xa5Jq5x8",
        "colab_type": "code",
        "outputId": "a53db1c6-dc43-4500-ced1-f120229a72b7",
        "colab": {
          "base_uri": "https://localhost:8080/",
          "height": 134
        }
      },
      "source": [
        "print(df1)"
      ],
      "execution_count": 0,
      "outputs": [
        {
          "output_type": "stream",
          "text": [
            "[[0.16565446]\n",
            " [0.17067427]\n",
            " [0.18511399]\n",
            " ...\n",
            " [0.63336635]\n",
            " [0.60337137]\n",
            " [0.66571634]]\n"
          ],
          "name": "stdout"
        }
      ]
    },
    {
      "cell_type": "code",
      "metadata": {
        "id": "fEONAUGdq5yG",
        "colab_type": "code",
        "colab": {}
      },
      "source": [
        "##splitting dataset into train and test split\n",
        "training_size=int(len(df1)*0.50)\n",
        "test_size=len(df1)-training_size\n",
        "train_data,test_data=df1[0:training_size,:],df1[training_size:len(df1),:1]"
      ],
      "execution_count": 0,
      "outputs": []
    },
    {
      "cell_type": "code",
      "metadata": {
        "id": "DQdnk41_q5yR",
        "colab_type": "code",
        "outputId": "23da6cfc-58c4-43df-b936-184546d15572",
        "colab": {
          "base_uri": "https://localhost:8080/",
          "height": 33
        }
      },
      "source": [
        "training_size,test_size"
      ],
      "execution_count": 0,
      "outputs": [
        {
          "output_type": "execute_result",
          "data": {
            "text/plain": [
              "(614, 615)"
            ]
          },
          "metadata": {
            "tags": []
          },
          "execution_count": 30
        }
      ]
    },
    {
      "cell_type": "code",
      "metadata": {
        "id": "eWyLfW5xq5yb",
        "colab_type": "code",
        "outputId": "2f124153-0e8e-4b60-da29-5f7709e8c4e9",
        "colab": {
          "base_uri": "https://localhost:8080/",
          "height": 1000
        }
      },
      "source": [
        "train_data"
      ],
      "execution_count": 0,
      "outputs": [
        {
          "output_type": "execute_result",
          "data": {
            "text/plain": [
              "array([[0.16565446],\n",
              "       [0.17067427],\n",
              "       [0.18511399],\n",
              "       [0.16224593],\n",
              "       [0.17110806],\n",
              "       [0.17417699],\n",
              "       [0.164291  ],\n",
              "       [0.15694598],\n",
              "       [0.15217649],\n",
              "       [0.17302921],\n",
              "       [0.15793754],\n",
              "       [0.14232273],\n",
              "       [0.14576099],\n",
              "       [0.15611057],\n",
              "       [0.15158649],\n",
              "       [0.1579078 ],\n",
              "       [0.152764  ],\n",
              "       [0.18703522],\n",
              "       [0.15821767],\n",
              "       [0.15071885],\n",
              "       [0.14582303],\n",
              "       [0.16435296],\n",
              "       [0.14470748],\n",
              "       [0.13863407],\n",
              "       [0.1539415 ],\n",
              "       [0.14210463],\n",
              "       [0.14433565],\n",
              "       [0.13634109],\n",
              "       [0.13454385],\n",
              "       [0.10374319],\n",
              "       [0.07957363],\n",
              "       [0.07870599],\n",
              "       [0.09488099],\n",
              "       [0.11973224],\n",
              "       [0.13528758],\n",
              "       [0.14167077],\n",
              "       [0.15927119],\n",
              "       [0.15914727],\n",
              "       [0.29641796],\n",
              "       [0.28396128],\n",
              "       [0.27931329],\n",
              "       [0.26753838],\n",
              "       [0.23735745],\n",
              "       [0.23549825],\n",
              "       [0.26239457],\n",
              "       [0.24243922],\n",
              "       [0.25353252],\n",
              "       [0.25477198],\n",
              "       [0.23091229],\n",
              "       [0.26406797],\n",
              "       [0.26766229],\n",
              "       [0.27528503],\n",
              "       [0.25836631],\n",
              "       [0.28613034],\n",
              "       [0.33248635],\n",
              "       [0.35120223],\n",
              "       [0.34147246],\n",
              "       [0.33261026],\n",
              "       [0.3598166 ],\n",
              "       [0.37376057],\n",
              "       [0.32808619],\n",
              "       [0.34345558],\n",
              "       [0.27162867],\n",
              "       [0.26400593],\n",
              "       [0.23779123],\n",
              "       [0.26103119],\n",
              "       [0.29400091],\n",
              "       [0.27478922],\n",
              "       [0.26791028],\n",
              "       [0.2811106 ],\n",
              "       [0.28154439],\n",
              "       [0.24826479],\n",
              "       [0.23066431],\n",
              "       [0.23029256],\n",
              "       [0.26648486],\n",
              "       [0.2563832 ],\n",
              "       [0.26921163],\n",
              "       [0.27794991],\n",
              "       [0.27875559],\n",
              "       [0.2825979 ],\n",
              "       [0.28662616],\n",
              "       [0.28650224],\n",
              "       [0.28755576],\n",
              "       [0.30137582],\n",
              "       [0.33205256],\n",
              "       [0.29090225],\n",
              "       [0.30689137],\n",
              "       [0.35566427],\n",
              "       [0.37152948],\n",
              "       [0.38051559],\n",
              "       [0.3487233 ],\n",
              "       [0.32182698],\n",
              "       [0.32095927],\n",
              "       [0.36483634],\n",
              "       [0.30862665],\n",
              "       [0.27906546],\n",
              "       [0.27757801],\n",
              "       [0.27702031],\n",
              "       [0.27299205],\n",
              "       [0.29586011],\n",
              "       [0.3121591 ],\n",
              "       [0.32734254],\n",
              "       [0.34091476],\n",
              "       [0.34444721],\n",
              "       [0.3407907 ],\n",
              "       [0.34438518],\n",
              "       [0.33366378],\n",
              "       [0.32542146],\n",
              "       [0.31984387],\n",
              "       [0.33403568],\n",
              "       [0.32666092],\n",
              "       [0.30856462],\n",
              "       [0.32790039],\n",
              "       [0.32281846],\n",
              "       [0.28867131],\n",
              "       [0.2812964 ],\n",
              "       [0.25619725],\n",
              "       [0.23252351],\n",
              "       [0.1813956 ],\n",
              "       [0.21541899],\n",
              "       [0.22235996],\n",
              "       [0.22310361],\n",
              "       [0.2076103 ],\n",
              "       [0.22273171],\n",
              "       [0.23896881],\n",
              "       [0.26642283],\n",
              "       [0.25179724],\n",
              "       [0.23140796],\n",
              "       [0.22620227],\n",
              "       [0.21603872],\n",
              "       [0.21362167],\n",
              "       [0.21250613],\n",
              "       [0.19317051],\n",
              "       [0.21430344],\n",
              "       [0.22167819],\n",
              "       [0.24293504],\n",
              "       [0.2521071 ],\n",
              "       [0.2750372 ],\n",
              "       [0.28935292],\n",
              "       [0.26332417],\n",
              "       [0.28321763],\n",
              "       [0.26041146],\n",
              "       [0.27825978],\n",
              "       [0.2755949 ],\n",
              "       [0.28278385],\n",
              "       [0.2853867 ],\n",
              "       [0.26344823],\n",
              "       [0.28637833],\n",
              "       [0.28464305],\n",
              "       [0.25669306],\n",
              "       [0.24950426],\n",
              "       [0.242873  ],\n",
              "       [0.22031481],\n",
              "       [0.23444474],\n",
              "       [0.22756565],\n",
              "       [0.21882751],\n",
              "       [0.25886213],\n",
              "       [0.31631128],\n",
              "       [0.33056512],\n",
              "       [0.32033953],\n",
              "       [0.32920174],\n",
              "       [0.30757314],\n",
              "       [0.32597916],\n",
              "       [0.32523551],\n",
              "       [0.32740457],\n",
              "       [0.32827214],\n",
              "       [0.31959589],\n",
              "       [0.36111795],\n",
              "       [0.36911258],\n",
              "       [0.37345071],\n",
              "       [0.35281359],\n",
              "       [0.37977195],\n",
              "       [0.37363651],\n",
              "       [0.34159638],\n",
              "       [0.29226578],\n",
              "       [0.2933193 ],\n",
              "       [0.25737483],\n",
              "       [0.26028754],\n",
              "       [0.27001731],\n",
              "       [0.25718888],\n",
              "       [0.27509908],\n",
              "       [0.30887449],\n",
              "       [0.31048585],\n",
              "       [0.31209721],\n",
              "       [0.31042382],\n",
              "       [0.31222113],\n",
              "       [0.29468268],\n",
              "       [0.30682949],\n",
              "       [0.26059741],\n",
              "       [0.31110558],\n",
              "       [0.35045858],\n",
              "       [0.3664477 ],\n",
              "       [0.36818298],\n",
              "       [0.35950673],\n",
              "       [0.37803667],\n",
              "       [0.33769204],\n",
              "       [0.33341594],\n",
              "       [0.33149472],\n",
              "       [0.32331428],\n",
              "       [0.34519086],\n",
              "       [0.35535441],\n",
              "       [0.39253834],\n",
              "       [0.39848783],\n",
              "       [0.39216659],\n",
              "       [0.414291  ],\n",
              "       [0.41051058],\n",
              "       [0.40338365],\n",
              "       [0.41187411],\n",
              "       [0.42693348],\n",
              "       [0.41199802],\n",
              "       [0.45866389],\n",
              "       [0.42773916],\n",
              "       [0.40604853],\n",
              "       [0.38194101],\n",
              "       [0.36421661],\n",
              "       [0.38534954],\n",
              "       [0.38274669],\n",
              "       [0.37004218],\n",
              "       [0.45277643],\n",
              "       [0.45829199],\n",
              "       [0.43740704],\n",
              "       [0.42185171],\n",
              "       [0.42581808],\n",
              "       [0.44552545],\n",
              "       [0.45426373],\n",
              "       [0.41887696],\n",
              "       [0.41813331],\n",
              "       [0.40549083],\n",
              "       [0.38082546],\n",
              "       [0.39173281],\n",
              "       [0.39532714],\n",
              "       [0.38169303],\n",
              "       [0.40363164],\n",
              "       [0.42024049],\n",
              "       [0.40598665],\n",
              "       [0.41732763],\n",
              "       [0.4129895 ],\n",
              "       [0.42197562],\n",
              "       [0.42209969],\n",
              "       [0.41676993],\n",
              "       [0.41131626],\n",
              "       [0.40685421],\n",
              "       [0.39322011],\n",
              "       [0.39005941],\n",
              "       [0.41565438],\n",
              "       [0.44391423],\n",
              "       [0.46219633],\n",
              "       [0.48332911],\n",
              "       [0.46647243],\n",
              "       [0.47465286],\n",
              "       [0.47936289],\n",
              "       [0.48704751],\n",
              "       [0.48785319],\n",
              "       [0.47558246],\n",
              "       [0.4521567 ],\n",
              "       [0.38665088],\n",
              "       [0.38088749],\n",
              "       [0.38305656],\n",
              "       [0.37394637],\n",
              "       [0.39129888],\n",
              "       [0.38758048],\n",
              "       [0.37778883],\n",
              "       [0.41534452],\n",
              "       [0.41199802],\n",
              "       [0.40288799],\n",
              "       [0.41900103],\n",
              "       [0.3978681 ],\n",
              "       [0.36285323],\n",
              "       [0.35640807],\n",
              "       [0.37561977],\n",
              "       [0.36843082],\n",
              "       [0.37010406],\n",
              "       [0.38516359],\n",
              "       [0.37425624],\n",
              "       [0.35163601],\n",
              "       [0.35355724],\n",
              "       [0.37351259],\n",
              "       [0.374938  ],\n",
              "       [0.39619485],\n",
              "       [0.37475206],\n",
              "       [0.24634356],\n",
              "       [0.25805644],\n",
              "       [0.2637581 ],\n",
              "       [0.25972984],\n",
              "       [0.2563832 ],\n",
              "       [0.24683938],\n",
              "       [0.25656915],\n",
              "       [0.26685676],\n",
              "       [0.26530743],\n",
              "       [0.25495778],\n",
              "       [0.2484506 ],\n",
              "       [0.26214674],\n",
              "       [0.26127917],\n",
              "       [0.26214674],\n",
              "       [0.24621965],\n",
              "       [0.24033219],\n",
              "       [0.25446212],\n",
              "       [0.25780861],\n",
              "       [0.25588738],\n",
              "       [0.25235494],\n",
              "       [0.23525042],\n",
              "       [0.21994291],\n",
              "       [0.1981904 ],\n",
              "       [0.1869113 ],\n",
              "       [0.18294493],\n",
              "       [0.17588004],\n",
              "       [0.20544124],\n",
              "       [0.2281235 ],\n",
              "       [0.20209474],\n",
              "       [0.18251114],\n",
              "       [0.18437034],\n",
              "       [0.2076103 ],\n",
              "       [0.20240461],\n",
              "       [0.20345812],\n",
              "       [0.19527769],\n",
              "       [0.21269207],\n",
              "       [0.2249628 ],\n",
              "       [0.20376799],\n",
              "       [0.20141298],\n",
              "       [0.22372334],\n",
              "       [0.215171  ],\n",
              "       [0.20804408],\n",
              "       [0.23159391],\n",
              "       [0.23258554],\n",
              "       [0.21919926],\n",
              "       [0.22706983],\n",
              "       [0.22930093],\n",
              "       [0.21008923],\n",
              "       [0.20104108],\n",
              "       [0.20692854],\n",
              "       [0.20463556],\n",
              "       [0.19385227],\n",
              "       [0.20401582],\n",
              "       [0.20370596],\n",
              "       [0.21727818],\n",
              "       [0.20779625],\n",
              "       [0.18982401],\n",
              "       [0.17247151],\n",
              "       [0.19341849],\n",
              "       [0.22130644],\n",
              "       [0.19075361],\n",
              "       [0.18412243],\n",
              "       [0.20413974],\n",
              "       [0.20835395],\n",
              "       [0.20259041],\n",
              "       [0.20401582],\n",
              "       [0.19273673],\n",
              "       [0.17829694],\n",
              "       [0.17519827],\n",
              "       [0.16441499],\n",
              "       [0.15363164],\n",
              "       [0.1429722 ],\n",
              "       [0.13336635],\n",
              "       [0.11576601],\n",
              "       [0.12059988],\n",
              "       [0.13045364],\n",
              "       [0.13547345],\n",
              "       [0.10206987],\n",
              "       [0.08068911],\n",
              "       [0.05992808],\n",
              "       [0.06352255],\n",
              "       [0.0825483 ],\n",
              "       [0.06947197],\n",
              "       [0.05738719],\n",
              "       [0.04666587],\n",
              "       [0.05013635],\n",
              "       [0.05825483],\n",
              "       [0.07337631],\n",
              "       [0.1286564 ],\n",
              "       [0.13156918],\n",
              "       [0.12289293],\n",
              "       [0.12636342],\n",
              "       [0.12710707],\n",
              "       [0.11229545],\n",
              "       [0.10894896],\n",
              "       [0.11582797],\n",
              "       [0.11539411],\n",
              "       [0.13789042],\n",
              "       [0.141113  ],\n",
              "       [0.12890431],\n",
              "       [0.14445957],\n",
              "       [0.15561475],\n",
              "       [0.14842587],\n",
              "       [0.16199802],\n",
              "       [0.15951909],\n",
              "       [0.16968272],\n",
              "       [0.16137829],\n",
              "       [0.1384482 ],\n",
              "       [0.14352997],\n",
              "       [0.13572136],\n",
              "       [0.15586266],\n",
              "       [0.15573874],\n",
              "       [0.14947939],\n",
              "       [0.17005454],\n",
              "       [0.15877537],\n",
              "       [0.15016115],\n",
              "       [0.15468515],\n",
              "       [0.15233021],\n",
              "       [0.12140556],\n",
              "       [0.12029001],\n",
              "       [0.12035197],\n",
              "       [0.11836886],\n",
              "       [0.15685421],\n",
              "       [0.12599159],\n",
              "       [0.10188399],\n",
              "       [0.10231778],\n",
              "       [0.09593458],\n",
              "       [0.10541644],\n",
              "       [0.09333166],\n",
              "       [0.0969881 ],\n",
              "       [0.08874563],\n",
              "       [0.07827221],\n",
              "       [0.08508927],\n",
              "       [0.09277389],\n",
              "       [0.0691621 ],\n",
              "       [0.05335893],\n",
              "       [0.07666085],\n",
              "       [0.07616511],\n",
              "       [0.07554537],\n",
              "       [0.08831184],\n",
              "       [0.0780243 ],\n",
              "       [0.09246402],\n",
              "       [0.11719135],\n",
              "       [0.13634109],\n",
              "       [0.14105104],\n",
              "       [0.13491568],\n",
              "       [0.17154191],\n",
              "       [0.15642043],\n",
              "       [0.17129401],\n",
              "       [0.17284334],\n",
              "       [0.14669059],\n",
              "       [0.1680094 ],\n",
              "       [0.17259543],\n",
              "       [0.17203765],\n",
              "       [0.18777887],\n",
              "       [0.18238723],\n",
              "       [0.1954016 ],\n",
              "       [0.1987481 ],\n",
              "       [0.18120972],\n",
              "       [0.16577837],\n",
              "       [0.17117001],\n",
              "       [0.18170546],\n",
              "       [0.20017351],\n",
              "       [0.17178975],\n",
              "       [0.19211699],\n",
              "       [0.20637084],\n",
              "       [0.18232519],\n",
              "       [0.19645512],\n",
              "       [0.19124943],\n",
              "       [0.20711448],\n",
              "       [0.19620729],\n",
              "       [0.19248889],\n",
              "       [0.20029743],\n",
              "       [0.19564944],\n",
              "       [0.18715914],\n",
              "       [0.1825731 ],\n",
              "       [0.16850521],\n",
              "       [0.15109075],\n",
              "       [0.15573874],\n",
              "       [0.1335523 ],\n",
              "       [0.09847547],\n",
              "       [0.11607588],\n",
              "       [0.11812095],\n",
              "       [0.07176502],\n",
              "       [0.06358451],\n",
              "       [0.06060984],\n",
              "       [0.05614773],\n",
              "       [0.06711703],\n",
              "       [0.06222113],\n",
              "       [0.06513384],\n",
              "       [0.06879028],\n",
              "       [0.05026027],\n",
              "       [0.062531  ],\n",
              "       [0.05689145],\n",
              "       [0.05887456],\n",
              "       [0.07703275],\n",
              "       [0.07783835],\n",
              "       [0.07188894],\n",
              "       [0.08917948],\n",
              "       [0.09072881],\n",
              "       [0.08639069],\n",
              "       [0.0871963 ],\n",
              "       [0.11204762],\n",
              "       [0.097236  ],\n",
              "       [0.10287555],\n",
              "       [0.09754587],\n",
              "       [0.10932078],\n",
              "       [0.10461083],\n",
              "       [0.10690381],\n",
              "       [0.1039911 ],\n",
              "       [0.09921912],\n",
              "       [0.13435798],\n",
              "       [0.15208231],\n",
              "       [0.13857211],\n",
              "       [0.15239217],\n",
              "       [0.12822262],\n",
              "       [0.12078583],\n",
              "       [0.11892663],\n",
              "       [0.10746159],\n",
              "       [0.13132128],\n",
              "       [0.10907287],\n",
              "       [0.10262764],\n",
              "       [0.09314579],\n",
              "       [0.11192363],\n",
              "       [0.10498266],\n",
              "       [0.10554043],\n",
              "       [0.09766979],\n",
              "       [0.08304412],\n",
              "       [0.06934805],\n",
              "       [0.08713434],\n",
              "       [0.08732029],\n",
              "       [0.08279621],\n",
              "       [0.08657656],\n",
              "       [0.06550567],\n",
              "       [0.06308877],\n",
              "       [0.06941001],\n",
              "       [0.07703275],\n",
              "       [0.09655431],\n",
              "       [0.10783341],\n",
              "       [0.09612046],\n",
              "       [0.09172037],\n",
              "       [0.07746653],\n",
              "       [0.10603617],\n",
              "       [0.1267972 ],\n",
              "       [0.12431827],\n",
              "       [0.12741693],\n",
              "       [0.12214921],\n",
              "       [0.13863407],\n",
              "       [0.1386961 ],\n",
              "       [0.13187905],\n",
              "       [0.11836886],\n",
              "       [0.13187905],\n",
              "       [0.14588498],\n",
              "       [0.14954142],\n",
              "       [0.1490456 ],\n",
              "       [0.12245908],\n",
              "       [0.15412738],\n",
              "       [0.17079819],\n",
              "       [0.16298958],\n",
              "       [0.14743431],\n",
              "       [0.13646501],\n",
              "       [0.13863407],\n",
              "       [0.11731534],\n",
              "       [0.11291518],\n",
              "       [0.11892663],\n",
              "       [0.13510163],\n",
              "       [0.14160882],\n",
              "       [0.13132128],\n",
              "       [0.12803667],\n",
              "       [0.18300696],\n",
              "       [0.06147741],\n",
              "       [0.        ],\n",
              "       [0.00452408],\n",
              "       [0.02602875],\n",
              "       [0.04833911],\n",
              "       [0.0838498 ],\n",
              "       [0.06699304],\n",
              "       [0.06587757],\n",
              "       [0.0518096 ],\n",
              "       [0.05775901],\n",
              "       [0.0344571 ],\n",
              "       [0.03420919],\n",
              "       [0.02751613],\n",
              "       [0.02733018],\n",
              "       [0.01351019],\n",
              "       [0.00625928],\n",
              "       [0.01282843],\n",
              "       [0.0124566 ],\n",
              "       [0.02330192],\n",
              "       [0.04350517],\n",
              "       [0.0433193 ],\n",
              "       [0.04685174],\n",
              "       [0.04771938],\n",
              "       [0.04468268],\n",
              "       [0.03042884],\n",
              "       [0.02869363],\n",
              "       [0.04084037],\n",
              "       [0.03117256],\n",
              "       [0.02751613],\n",
              "       [0.03129648],\n",
              "       [0.03774171],\n",
              "       [0.0325979 ],\n",
              "       [0.03668812],\n",
              "       [0.05695341],\n",
              "       [0.06215917],\n",
              "       [0.07697071],\n",
              "       [0.07077339],\n",
              "       [0.0664973 ],\n",
              "       [0.07238476],\n",
              "       [0.08155675],\n",
              "       [0.07182698],\n",
              "       [0.06315073],\n",
              "       [0.06643527],\n",
              "       [0.0819906 ],\n",
              "       [0.06600148],\n",
              "       [0.07672288],\n",
              "       [0.09172037],\n",
              "       [0.09165841],\n",
              "       [0.08818793],\n",
              "       [0.05968024],\n",
              "       [0.06538175],\n",
              "       [0.06122957],\n",
              "       [0.06587757],\n",
              "       [0.06829446],\n",
              "       [0.10188399],\n",
              "       [0.097236  ],\n",
              "       [0.10052054],\n",
              "       [0.10795733],\n",
              "       [0.09705005],\n",
              "       [0.09413734],\n",
              "       [0.097236  ],\n",
              "       [0.14266233],\n",
              "       [0.12078583],\n",
              "       [0.10888692]])"
            ]
          },
          "metadata": {
            "tags": []
          },
          "execution_count": 31
        }
      ]
    },
    {
      "cell_type": "code",
      "metadata": {
        "id": "gnP19axDq5yl",
        "colab_type": "code",
        "colab": {}
      },
      "source": [
        "import numpy\n",
        "# convert an array of values into a dataset matrix\n",
        "def create_dataset(dataset, time_step=1):\n",
        "\tdataX, dataY = [], []\n",
        "\tfor i in range(len(dataset)-time_step-1):\n",
        "\t\ta = dataset[i:(i+time_step), 0]   ###i=0, 0,1,2,3-----99   100 \n",
        "\t\tdataX.append(a)\n",
        "\t\tdataY.append(dataset[i + time_step, 0])\n",
        "\treturn numpy.array(dataX), numpy.array(dataY)"
      ],
      "execution_count": 0,
      "outputs": []
    },
    {
      "cell_type": "code",
      "metadata": {
        "id": "1dZRpMVLq5yv",
        "colab_type": "code",
        "colab": {}
      },
      "source": [
        "# reshape into X=t,t+1,t+2,t+3 and Y=t+4\n",
        "time_step = 100\n",
        "X_train, y_train = create_dataset(train_data, time_step)\n",
        "X_test, ytest = create_dataset(test_data, time_step)"
      ],
      "execution_count": 0,
      "outputs": []
    },
    {
      "cell_type": "code",
      "metadata": {
        "id": "OMyxiv1zq5y5",
        "colab_type": "code",
        "outputId": "35bf08a5-8284-4a6b-fa93-af6e1c47dc25",
        "colab": {
          "base_uri": "https://localhost:8080/",
          "height": 67
        }
      },
      "source": [
        "print(X_train.shape), print(y_train.shape)"
      ],
      "execution_count": 0,
      "outputs": [
        {
          "output_type": "stream",
          "text": [
            "(513, 100)\n",
            "(513,)\n"
          ],
          "name": "stdout"
        },
        {
          "output_type": "execute_result",
          "data": {
            "text/plain": [
              "(None, None)"
            ]
          },
          "metadata": {
            "tags": []
          },
          "execution_count": 35
        }
      ]
    },
    {
      "cell_type": "code",
      "metadata": {
        "id": "YRoeVc1oq5zK",
        "colab_type": "code",
        "outputId": "22a87860-fbd1-471d-a710-e088905726a1",
        "colab": {
          "base_uri": "https://localhost:8080/",
          "height": 67
        }
      },
      "source": [
        "print(X_test.shape), print(ytest.shape)"
      ],
      "execution_count": 0,
      "outputs": [
        {
          "output_type": "stream",
          "text": [
            "(514, 100)\n",
            "(514,)\n"
          ],
          "name": "stdout"
        },
        {
          "output_type": "execute_result",
          "data": {
            "text/plain": [
              "(None, None)"
            ]
          },
          "metadata": {
            "tags": []
          },
          "execution_count": 36
        }
      ]
    },
    {
      "cell_type": "code",
      "metadata": {
        "id": "IT6iTmMbq5za",
        "colab_type": "code",
        "colab": {}
      },
      "source": [
        "# reshape input to be [samples, time steps, features] which is required for LSTM\n",
        "X_train =X_train.reshape(X_train.shape[0],X_train.shape[1] , 1)\n",
        "X_test = X_test.reshape(X_test.shape[0],X_test.shape[1] , 1)"
      ],
      "execution_count": 0,
      "outputs": []
    },
    {
      "cell_type": "code",
      "metadata": {
        "id": "roCASsdFq5zm",
        "colab_type": "code",
        "colab": {}
      },
      "source": [
        "### Create the Stacked LSTM model\n",
        "from tensorflow.keras.models import Sequential\n",
        "from tensorflow.keras.layers import Dense\n",
        "from tensorflow.keras.layers import LSTM"
      ],
      "execution_count": 0,
      "outputs": []
    },
    {
      "cell_type": "code",
      "metadata": {
        "id": "JtyzOX5Lq5zz",
        "colab_type": "code",
        "colab": {}
      },
      "source": [
        "model=Sequential()\n",
        "model.add(LSTM(50,return_sequences=True,input_shape=(100,1)))\n",
        "model.add(LSTM(50,return_sequences=True))\n",
        "model.add(LSTM(50))\n",
        "model.add(Dense(1))\n",
        "model.compile(loss='mean_squared_error',optimizer='adam')\n"
      ],
      "execution_count": 0,
      "outputs": []
    },
    {
      "cell_type": "code",
      "metadata": {
        "id": "vN3VzZNlq50E",
        "colab_type": "code",
        "outputId": "06ab8403-474d-4681-8088-dc031b2c9642",
        "colab": {
          "base_uri": "https://localhost:8080/",
          "height": 284
        }
      },
      "source": [
        "model.summary()"
      ],
      "execution_count": 0,
      "outputs": [
        {
          "output_type": "stream",
          "text": [
            "Model: \"sequential_1\"\n",
            "_________________________________________________________________\n",
            "Layer (type)                 Output Shape              Param #   \n",
            "=================================================================\n",
            "lstm_3 (LSTM)                (None, 100, 50)           10400     \n",
            "_________________________________________________________________\n",
            "lstm_4 (LSTM)                (None, 100, 50)           20200     \n",
            "_________________________________________________________________\n",
            "lstm_5 (LSTM)                (None, 50)                20200     \n",
            "_________________________________________________________________\n",
            "dense_1 (Dense)              (None, 1)                 51        \n",
            "=================================================================\n",
            "Total params: 50,851\n",
            "Trainable params: 50,851\n",
            "Non-trainable params: 0\n",
            "_________________________________________________________________\n"
          ],
          "name": "stdout"
        }
      ]
    },
    {
      "cell_type": "code",
      "metadata": {
        "id": "U8R1yhO0q50b",
        "colab_type": "code",
        "colab": {}
      },
      "source": [
        ""
      ],
      "execution_count": 0,
      "outputs": []
    },
    {
      "cell_type": "code",
      "metadata": {
        "id": "zksXMsqsq50k",
        "colab_type": "code",
        "outputId": "5d351adc-aa1b-428d-8318-2fa24c366e1c",
        "colab": {
          "base_uri": "https://localhost:8080/",
          "height": 1000
        }
      },
      "source": [
        "model.fit(X_train,y_train,validation_data=(X_test,ytest),epochs=100,batch_size=64,verbose=1)"
      ],
      "execution_count": 0,
      "outputs": [
        {
          "output_type": "stream",
          "text": [
            "Epoch 1/100\n",
            "9/9 [==============================] - 2s 207ms/step - loss: 0.0019 - val_loss: nan\n",
            "Epoch 2/100\n",
            "9/9 [==============================] - 2s 210ms/step - loss: 0.0019 - val_loss: nan\n",
            "Epoch 3/100\n",
            "9/9 [==============================] - 2s 211ms/step - loss: 0.0022 - val_loss: nan\n",
            "Epoch 4/100\n",
            "9/9 [==============================] - 2s 205ms/step - loss: 0.0019 - val_loss: nan\n",
            "Epoch 5/100\n",
            "9/9 [==============================] - 2s 203ms/step - loss: 0.0017 - val_loss: nan\n",
            "Epoch 6/100\n",
            "9/9 [==============================] - 2s 203ms/step - loss: 0.0016 - val_loss: nan\n",
            "Epoch 7/100\n",
            "9/9 [==============================] - 2s 202ms/step - loss: 0.0016 - val_loss: nan\n",
            "Epoch 8/100\n",
            "9/9 [==============================] - 2s 205ms/step - loss: 0.0031 - val_loss: nan\n",
            "Epoch 9/100\n",
            "9/9 [==============================] - 2s 204ms/step - loss: 0.0019 - val_loss: nan\n",
            "Epoch 10/100\n",
            "9/9 [==============================] - 2s 204ms/step - loss: 0.0017 - val_loss: nan\n",
            "Epoch 11/100\n",
            "9/9 [==============================] - 2s 208ms/step - loss: 0.0016 - val_loss: nan\n",
            "Epoch 12/100\n",
            "9/9 [==============================] - 2s 204ms/step - loss: 0.0021 - val_loss: nan\n",
            "Epoch 13/100\n",
            "9/9 [==============================] - 2s 206ms/step - loss: 0.0015 - val_loss: nan\n",
            "Epoch 14/100\n",
            "9/9 [==============================] - 2s 208ms/step - loss: 0.0021 - val_loss: nan\n",
            "Epoch 15/100\n",
            "9/9 [==============================] - 2s 204ms/step - loss: 0.0016 - val_loss: nan\n",
            "Epoch 16/100\n",
            "9/9 [==============================] - 2s 205ms/step - loss: 0.0014 - val_loss: nan\n",
            "Epoch 17/100\n",
            "9/9 [==============================] - 2s 204ms/step - loss: 0.0014 - val_loss: nan\n",
            "Epoch 18/100\n",
            "9/9 [==============================] - 2s 207ms/step - loss: 0.0015 - val_loss: nan\n",
            "Epoch 19/100\n",
            "9/9 [==============================] - 2s 208ms/step - loss: 0.0018 - val_loss: nan\n",
            "Epoch 20/100\n",
            "9/9 [==============================] - 2s 205ms/step - loss: 0.0014 - val_loss: nan\n",
            "Epoch 21/100\n",
            "9/9 [==============================] - 2s 209ms/step - loss: 0.0013 - val_loss: nan\n",
            "Epoch 22/100\n",
            "9/9 [==============================] - 2s 206ms/step - loss: 0.0016 - val_loss: nan\n",
            "Epoch 23/100\n",
            "9/9 [==============================] - 2s 204ms/step - loss: 0.0015 - val_loss: nan\n",
            "Epoch 24/100\n",
            "9/9 [==============================] - 2s 208ms/step - loss: 0.0013 - val_loss: nan\n",
            "Epoch 25/100\n",
            "9/9 [==============================] - 2s 205ms/step - loss: 0.0012 - val_loss: nan\n",
            "Epoch 26/100\n",
            "9/9 [==============================] - 2s 205ms/step - loss: 0.0013 - val_loss: nan\n",
            "Epoch 27/100\n",
            "9/9 [==============================] - 2s 206ms/step - loss: 0.0012 - val_loss: nan\n",
            "Epoch 28/100\n",
            "9/9 [==============================] - 2s 209ms/step - loss: 0.0012 - val_loss: nan\n",
            "Epoch 29/100\n",
            "9/9 [==============================] - 2s 207ms/step - loss: 0.0017 - val_loss: nan\n",
            "Epoch 30/100\n",
            "9/9 [==============================] - 2s 210ms/step - loss: 0.0015 - val_loss: nan\n",
            "Epoch 31/100\n",
            "9/9 [==============================] - 2s 207ms/step - loss: 0.0013 - val_loss: nan\n",
            "Epoch 32/100\n",
            "9/9 [==============================] - 2s 207ms/step - loss: 0.0012 - val_loss: nan\n",
            "Epoch 33/100\n",
            "9/9 [==============================] - 2s 205ms/step - loss: 0.0011 - val_loss: nan\n",
            "Epoch 34/100\n",
            "9/9 [==============================] - 2s 206ms/step - loss: 0.0011 - val_loss: nan\n",
            "Epoch 35/100\n",
            "9/9 [==============================] - 2s 207ms/step - loss: 0.0011 - val_loss: nan\n",
            "Epoch 36/100\n",
            "9/9 [==============================] - 2s 206ms/step - loss: 0.0011 - val_loss: nan\n",
            "Epoch 37/100\n",
            "9/9 [==============================] - 2s 206ms/step - loss: 0.0011 - val_loss: nan\n",
            "Epoch 38/100\n",
            "9/9 [==============================] - 2s 207ms/step - loss: 0.0013 - val_loss: nan\n",
            "Epoch 39/100\n",
            "9/9 [==============================] - 2s 206ms/step - loss: 0.0011 - val_loss: nan\n",
            "Epoch 40/100\n",
            "9/9 [==============================] - 2s 207ms/step - loss: 0.0011 - val_loss: nan\n",
            "Epoch 41/100\n",
            "9/9 [==============================] - 2s 204ms/step - loss: 0.0011 - val_loss: nan\n",
            "Epoch 42/100\n",
            "9/9 [==============================] - 2s 203ms/step - loss: 0.0011 - val_loss: nan\n",
            "Epoch 43/100\n",
            "9/9 [==============================] - 2s 205ms/step - loss: 0.0011 - val_loss: nan\n",
            "Epoch 44/100\n",
            "9/9 [==============================] - 2s 204ms/step - loss: 0.0011 - val_loss: nan\n",
            "Epoch 45/100\n",
            "9/9 [==============================] - 2s 206ms/step - loss: 0.0012 - val_loss: nan\n",
            "Epoch 46/100\n",
            "9/9 [==============================] - 2s 204ms/step - loss: 0.0015 - val_loss: nan\n",
            "Epoch 47/100\n",
            "9/9 [==============================] - 2s 199ms/step - loss: 0.0016 - val_loss: nan\n",
            "Epoch 48/100\n",
            "9/9 [==============================] - 2s 197ms/step - loss: 0.0013 - val_loss: nan\n",
            "Epoch 49/100\n",
            "9/9 [==============================] - 2s 202ms/step - loss: 0.0011 - val_loss: nan\n",
            "Epoch 50/100\n",
            "9/9 [==============================] - 2s 202ms/step - loss: 0.0011 - val_loss: nan\n",
            "Epoch 51/100\n",
            "9/9 [==============================] - 2s 199ms/step - loss: 0.0010 - val_loss: nan\n",
            "Epoch 52/100\n",
            "9/9 [==============================] - 2s 203ms/step - loss: 9.9115e-04 - val_loss: nan\n",
            "Epoch 53/100\n",
            "9/9 [==============================] - 2s 202ms/step - loss: 9.8323e-04 - val_loss: nan\n",
            "Epoch 54/100\n",
            "9/9 [==============================] - 2s 206ms/step - loss: 9.6295e-04 - val_loss: nan\n",
            "Epoch 55/100\n",
            "9/9 [==============================] - 2s 201ms/step - loss: 9.9464e-04 - val_loss: nan\n",
            "Epoch 56/100\n",
            "9/9 [==============================] - 2s 201ms/step - loss: 9.4014e-04 - val_loss: nan\n",
            "Epoch 57/100\n",
            "9/9 [==============================] - 2s 200ms/step - loss: 0.0012 - val_loss: nan\n",
            "Epoch 58/100\n",
            "9/9 [==============================] - 2s 200ms/step - loss: 0.0011 - val_loss: nan\n",
            "Epoch 59/100\n",
            "9/9 [==============================] - 2s 200ms/step - loss: 9.4258e-04 - val_loss: nan\n"
          ],
          "name": "stdout"
        }
      ]
    },
    {
      "cell_type": "code",
      "metadata": {
        "id": "jgiIcG6Mq50x",
        "colab_type": "code",
        "colab": {}
      },
      "source": [
        "import tensorflow as tf"
      ],
      "execution_count": 0,
      "outputs": []
    },
    {
      "cell_type": "code",
      "metadata": {
        "id": "Oo9F9XYjq509",
        "colab_type": "code",
        "outputId": "a36d8375-9eab-43c9-f761-d5be706b65a5",
        "colab": {
          "base_uri": "https://localhost:8080/",
          "height": 33
        }
      },
      "source": [
        "tf.__version__"
      ],
      "execution_count": 0,
      "outputs": [
        {
          "output_type": "execute_result",
          "data": {
            "text/plain": [
              "'2.2.0'"
            ]
          },
          "metadata": {
            "tags": []
          },
          "execution_count": 37
        }
      ]
    },
    {
      "cell_type": "code",
      "metadata": {
        "id": "lrNL7FP2q51G",
        "colab_type": "code",
        "colab": {}
      },
      "source": [
        "### Lets Do the prediction and check performance metrics\n",
        "train_predict=model.predict(X_train)\n",
        "test_predict=model.predict(X_test)"
      ],
      "execution_count": 0,
      "outputs": []
    },
    {
      "cell_type": "code",
      "metadata": {
        "id": "zubed1Kdq51T",
        "colab_type": "code",
        "colab": {}
      },
      "source": [
        "##Transformback to original form\n",
        "train_predict=scaler.inverse_transform(train_predict)\n",
        "test_predict=scaler.inverse_transform(test_predict)"
      ],
      "execution_count": 0,
      "outputs": []
    },
    {
      "cell_type": "code",
      "metadata": {
        "id": "1AFCBDXnq51b",
        "colab_type": "code",
        "outputId": "922b2560-ea6a-46b6-b0e4-71d08d44baa8",
        "colab": {
          "base_uri": "https://localhost:8080/",
          "height": 33
        }
      },
      "source": [
        "### Calculate RMSE performance metrics\n",
        "import math\n",
        "from sklearn.metrics import mean_squared_error\n",
        "math.sqrt(mean_squared_error(y_train,train_predict))"
      ],
      "execution_count": 0,
      "outputs": [
        {
          "output_type": "execute_result",
          "data": {
            "text/plain": [
              "217595.2222552138"
            ]
          },
          "metadata": {
            "tags": []
          },
          "execution_count": 41
        }
      ]
    },
    {
      "cell_type": "code",
      "metadata": {
        "id": "eQtzC5-Fq51k",
        "colab_type": "code",
        "outputId": "12a915e5-60d1-427c-929f-14bdbb2a3c49",
        "colab": {
          "base_uri": "https://localhost:8080/",
          "height": 319
        }
      },
      "source": [
        "### Test Data RMSE\n",
        "math.sqrt(mean_squared_error(ytest,test_predict))"
      ],
      "execution_count": 0,
      "outputs": [
        {
          "output_type": "error",
          "ename": "ValueError",
          "evalue": "ignored",
          "traceback": [
            "\u001b[0;31m---------------------------------------------------------------------------\u001b[0m",
            "\u001b[0;31mValueError\u001b[0m                                Traceback (most recent call last)",
            "\u001b[0;32m<ipython-input-42-3e6ceb788da6>\u001b[0m in \u001b[0;36m<module>\u001b[0;34m()\u001b[0m\n\u001b[1;32m      1\u001b[0m \u001b[0;31m### Test Data RMSE\u001b[0m\u001b[0;34m\u001b[0m\u001b[0;34m\u001b[0m\u001b[0;34m\u001b[0m\u001b[0m\n\u001b[0;32m----> 2\u001b[0;31m \u001b[0mmath\u001b[0m\u001b[0;34m.\u001b[0m\u001b[0msqrt\u001b[0m\u001b[0;34m(\u001b[0m\u001b[0mmean_squared_error\u001b[0m\u001b[0;34m(\u001b[0m\u001b[0mytest\u001b[0m\u001b[0;34m,\u001b[0m\u001b[0mtest_predict\u001b[0m\u001b[0;34m)\u001b[0m\u001b[0;34m)\u001b[0m\u001b[0;34m\u001b[0m\u001b[0;34m\u001b[0m\u001b[0m\n\u001b[0m",
            "\u001b[0;32m/usr/local/lib/python3.6/dist-packages/sklearn/metrics/_regression.py\u001b[0m in \u001b[0;36mmean_squared_error\u001b[0;34m(y_true, y_pred, sample_weight, multioutput, squared)\u001b[0m\n\u001b[1;32m    250\u001b[0m     \"\"\"\n\u001b[1;32m    251\u001b[0m     y_type, y_true, y_pred, multioutput = _check_reg_targets(\n\u001b[0;32m--> 252\u001b[0;31m         y_true, y_pred, multioutput)\n\u001b[0m\u001b[1;32m    253\u001b[0m     \u001b[0mcheck_consistent_length\u001b[0m\u001b[0;34m(\u001b[0m\u001b[0my_true\u001b[0m\u001b[0;34m,\u001b[0m \u001b[0my_pred\u001b[0m\u001b[0;34m,\u001b[0m \u001b[0msample_weight\u001b[0m\u001b[0;34m)\u001b[0m\u001b[0;34m\u001b[0m\u001b[0;34m\u001b[0m\u001b[0m\n\u001b[1;32m    254\u001b[0m     output_errors = np.average((y_true - y_pred) ** 2, axis=0,\n",
            "\u001b[0;32m/usr/local/lib/python3.6/dist-packages/sklearn/metrics/_regression.py\u001b[0m in \u001b[0;36m_check_reg_targets\u001b[0;34m(y_true, y_pred, multioutput, dtype)\u001b[0m\n\u001b[1;32m     83\u001b[0m     \"\"\"\n\u001b[1;32m     84\u001b[0m     \u001b[0mcheck_consistent_length\u001b[0m\u001b[0;34m(\u001b[0m\u001b[0my_true\u001b[0m\u001b[0;34m,\u001b[0m \u001b[0my_pred\u001b[0m\u001b[0;34m)\u001b[0m\u001b[0;34m\u001b[0m\u001b[0;34m\u001b[0m\u001b[0m\n\u001b[0;32m---> 85\u001b[0;31m     \u001b[0my_true\u001b[0m \u001b[0;34m=\u001b[0m \u001b[0mcheck_array\u001b[0m\u001b[0;34m(\u001b[0m\u001b[0my_true\u001b[0m\u001b[0;34m,\u001b[0m \u001b[0mensure_2d\u001b[0m\u001b[0;34m=\u001b[0m\u001b[0;32mFalse\u001b[0m\u001b[0;34m,\u001b[0m \u001b[0mdtype\u001b[0m\u001b[0;34m=\u001b[0m\u001b[0mdtype\u001b[0m\u001b[0;34m)\u001b[0m\u001b[0;34m\u001b[0m\u001b[0;34m\u001b[0m\u001b[0m\n\u001b[0m\u001b[1;32m     86\u001b[0m     \u001b[0my_pred\u001b[0m \u001b[0;34m=\u001b[0m \u001b[0mcheck_array\u001b[0m\u001b[0;34m(\u001b[0m\u001b[0my_pred\u001b[0m\u001b[0;34m,\u001b[0m \u001b[0mensure_2d\u001b[0m\u001b[0;34m=\u001b[0m\u001b[0;32mFalse\u001b[0m\u001b[0;34m,\u001b[0m \u001b[0mdtype\u001b[0m\u001b[0;34m=\u001b[0m\u001b[0mdtype\u001b[0m\u001b[0;34m)\u001b[0m\u001b[0;34m\u001b[0m\u001b[0;34m\u001b[0m\u001b[0m\n\u001b[1;32m     87\u001b[0m \u001b[0;34m\u001b[0m\u001b[0m\n",
            "\u001b[0;32m/usr/local/lib/python3.6/dist-packages/sklearn/utils/validation.py\u001b[0m in \u001b[0;36mcheck_array\u001b[0;34m(array, accept_sparse, accept_large_sparse, dtype, order, copy, force_all_finite, ensure_2d, allow_nd, ensure_min_samples, ensure_min_features, warn_on_dtype, estimator)\u001b[0m\n\u001b[1;32m    576\u001b[0m         \u001b[0;32mif\u001b[0m \u001b[0mforce_all_finite\u001b[0m\u001b[0;34m:\u001b[0m\u001b[0;34m\u001b[0m\u001b[0;34m\u001b[0m\u001b[0m\n\u001b[1;32m    577\u001b[0m             _assert_all_finite(array,\n\u001b[0;32m--> 578\u001b[0;31m                                allow_nan=force_all_finite == 'allow-nan')\n\u001b[0m\u001b[1;32m    579\u001b[0m \u001b[0;34m\u001b[0m\u001b[0m\n\u001b[1;32m    580\u001b[0m     \u001b[0;32mif\u001b[0m \u001b[0mensure_min_samples\u001b[0m \u001b[0;34m>\u001b[0m \u001b[0;36m0\u001b[0m\u001b[0;34m:\u001b[0m\u001b[0;34m\u001b[0m\u001b[0;34m\u001b[0m\u001b[0m\n",
            "\u001b[0;32m/usr/local/lib/python3.6/dist-packages/sklearn/utils/validation.py\u001b[0m in \u001b[0;36m_assert_all_finite\u001b[0;34m(X, allow_nan, msg_dtype)\u001b[0m\n\u001b[1;32m     58\u001b[0m                     \u001b[0mmsg_err\u001b[0m\u001b[0;34m.\u001b[0m\u001b[0mformat\u001b[0m\u001b[0;34m\u001b[0m\u001b[0;34m\u001b[0m\u001b[0m\n\u001b[1;32m     59\u001b[0m                     (type_err,\n\u001b[0;32m---> 60\u001b[0;31m                      msg_dtype if msg_dtype is not None else X.dtype)\n\u001b[0m\u001b[1;32m     61\u001b[0m             )\n\u001b[1;32m     62\u001b[0m     \u001b[0;31m# for object dtype data, we only check for NaNs (GH-13254)\u001b[0m\u001b[0;34m\u001b[0m\u001b[0;34m\u001b[0m\u001b[0;34m\u001b[0m\u001b[0m\n",
            "\u001b[0;31mValueError\u001b[0m: Input contains NaN, infinity or a value too large for dtype('float64')."
          ]
        }
      ]
    },
    {
      "cell_type": "code",
      "metadata": {
        "id": "SiLdr1HPq51w",
        "colab_type": "code",
        "outputId": "e81e878d-a952-4af9-b2e1-02c6bc7d081e",
        "colab": {
          "base_uri": "https://localhost:8080/",
          "height": 228
        }
      },
      "source": [
        "### Plotting \n",
        "# shift train predictions for plotting\n",
        "look_back=100\n",
        "trainPredictPlot = numpy.empty_like(df1)\n",
        "trainPredictPlot[:, :] = np.nan\n",
        "trainPredictPlot[look_back:len(train_predict)+look_back, :] = train_predict\n",
        "# shift test predictions for plotting\n",
        "testPredictPlot = numpy.empty_like(df1)\n",
        "testPredictPlot[:, :] = numpy.nan\n",
        "testPredictPlot[len(train_predict)+(look_back*2)+1:len(df1)-1, :] = test_predict\n",
        "# plot baseline and predictions\n",
        "plt.plot(scaler.inverse_transform(df1))\n",
        "plt.plot(trainPredictPlot)\n",
        "plt.plot(testPredictPlot)\n",
        "plt.show()"
      ],
      "execution_count": 0,
      "outputs": [
        {
          "output_type": "error",
          "ename": "NameError",
          "evalue": "ignored",
          "traceback": [
            "\u001b[0;31m---------------------------------------------------------------------------\u001b[0m",
            "\u001b[0;31mNameError\u001b[0m                                 Traceback (most recent call last)",
            "\u001b[0;32m<ipython-input-1-0fdf7ea26463>\u001b[0m in \u001b[0;36m<module>\u001b[0;34m()\u001b[0m\n\u001b[1;32m      2\u001b[0m \u001b[0;31m# shift train predictions for plotting\u001b[0m\u001b[0;34m\u001b[0m\u001b[0;34m\u001b[0m\u001b[0;34m\u001b[0m\u001b[0m\n\u001b[1;32m      3\u001b[0m \u001b[0mlook_back\u001b[0m\u001b[0;34m=\u001b[0m\u001b[0;36m100\u001b[0m\u001b[0;34m\u001b[0m\u001b[0;34m\u001b[0m\u001b[0m\n\u001b[0;32m----> 4\u001b[0;31m \u001b[0mtrainPredictPlot\u001b[0m \u001b[0;34m=\u001b[0m \u001b[0mnumpy\u001b[0m\u001b[0;34m.\u001b[0m\u001b[0mempty_like\u001b[0m\u001b[0;34m(\u001b[0m\u001b[0mdf1\u001b[0m\u001b[0;34m)\u001b[0m\u001b[0;34m\u001b[0m\u001b[0;34m\u001b[0m\u001b[0m\n\u001b[0m\u001b[1;32m      5\u001b[0m \u001b[0mtrainPredictPlot\u001b[0m\u001b[0;34m[\u001b[0m\u001b[0;34m:\u001b[0m\u001b[0;34m,\u001b[0m \u001b[0;34m:\u001b[0m\u001b[0;34m]\u001b[0m \u001b[0;34m=\u001b[0m \u001b[0mnp\u001b[0m\u001b[0;34m.\u001b[0m\u001b[0mnan\u001b[0m\u001b[0;34m\u001b[0m\u001b[0;34m\u001b[0m\u001b[0m\n\u001b[1;32m      6\u001b[0m \u001b[0mtrainPredictPlot\u001b[0m\u001b[0;34m[\u001b[0m\u001b[0mlook_back\u001b[0m\u001b[0;34m:\u001b[0m\u001b[0mlen\u001b[0m\u001b[0;34m(\u001b[0m\u001b[0mtrain_predict\u001b[0m\u001b[0;34m)\u001b[0m\u001b[0;34m+\u001b[0m\u001b[0mlook_back\u001b[0m\u001b[0;34m,\u001b[0m \u001b[0;34m:\u001b[0m\u001b[0;34m]\u001b[0m \u001b[0;34m=\u001b[0m \u001b[0mtrain_predict\u001b[0m\u001b[0;34m\u001b[0m\u001b[0;34m\u001b[0m\u001b[0m\n",
            "\u001b[0;31mNameError\u001b[0m: name 'numpy' is not defined"
          ]
        }
      ]
    },
    {
      "cell_type": "code",
      "metadata": {
        "id": "JAEWMbYqq518",
        "colab_type": "code",
        "outputId": "ea135932-cf3b-4f43-918c-0e73250237bd",
        "colab": {
          "base_uri": "https://localhost:8080/",
          "height": 161
        }
      },
      "source": [
        "len(test_data)"
      ],
      "execution_count": 0,
      "outputs": [
        {
          "output_type": "error",
          "ename": "NameError",
          "evalue": "ignored",
          "traceback": [
            "\u001b[0;31m---------------------------------------------------------------------------\u001b[0m",
            "\u001b[0;31mNameError\u001b[0m                                 Traceback (most recent call last)",
            "\u001b[0;32m<ipython-input-2-44d6dc868367>\u001b[0m in \u001b[0;36m<module>\u001b[0;34m()\u001b[0m\n\u001b[0;32m----> 1\u001b[0;31m \u001b[0mlen\u001b[0m\u001b[0;34m(\u001b[0m\u001b[0mtest_data\u001b[0m\u001b[0;34m)\u001b[0m\u001b[0;34m\u001b[0m\u001b[0;34m\u001b[0m\u001b[0m\n\u001b[0m",
            "\u001b[0;31mNameError\u001b[0m: name 'test_data' is not defined"
          ]
        }
      ]
    },
    {
      "cell_type": "code",
      "metadata": {
        "id": "oe2vvTJgq52T",
        "colab_type": "code",
        "outputId": "f126d160-1e3a-4913-a5f2-1f9543f5e499",
        "colab": {
          "base_uri": "https://localhost:8080/",
          "height": 178
        }
      },
      "source": [
        "x_input=test_data[341:].reshape(1,-1)\n",
        "x_input.shape\n"
      ],
      "execution_count": 0,
      "outputs": [
        {
          "output_type": "error",
          "ename": "NameError",
          "evalue": "ignored",
          "traceback": [
            "\u001b[0;31m---------------------------------------------------------------------------\u001b[0m",
            "\u001b[0;31mNameError\u001b[0m                                 Traceback (most recent call last)",
            "\u001b[0;32m<ipython-input-3-af0073177b87>\u001b[0m in \u001b[0;36m<module>\u001b[0;34m()\u001b[0m\n\u001b[0;32m----> 1\u001b[0;31m \u001b[0mx_input\u001b[0m\u001b[0;34m=\u001b[0m\u001b[0mtest_data\u001b[0m\u001b[0;34m[\u001b[0m\u001b[0;36m341\u001b[0m\u001b[0;34m:\u001b[0m\u001b[0;34m]\u001b[0m\u001b[0;34m.\u001b[0m\u001b[0mreshape\u001b[0m\u001b[0;34m(\u001b[0m\u001b[0;36m1\u001b[0m\u001b[0;34m,\u001b[0m\u001b[0;34m-\u001b[0m\u001b[0;36m1\u001b[0m\u001b[0;34m)\u001b[0m\u001b[0;34m\u001b[0m\u001b[0;34m\u001b[0m\u001b[0m\n\u001b[0m\u001b[1;32m      2\u001b[0m \u001b[0mx_input\u001b[0m\u001b[0;34m.\u001b[0m\u001b[0mshape\u001b[0m\u001b[0;34m\u001b[0m\u001b[0;34m\u001b[0m\u001b[0m\n",
            "\u001b[0;31mNameError\u001b[0m: name 'test_data' is not defined"
          ]
        }
      ]
    },
    {
      "cell_type": "code",
      "metadata": {
        "id": "lpon2y5gq52c",
        "colab_type": "code",
        "colab": {}
      },
      "source": [
        ""
      ],
      "execution_count": 0,
      "outputs": []
    },
    {
      "cell_type": "code",
      "metadata": {
        "id": "ez7js0G3q52l",
        "colab_type": "code",
        "colab": {}
      },
      "source": [
        ""
      ],
      "execution_count": 0,
      "outputs": []
    },
    {
      "cell_type": "code",
      "metadata": {
        "id": "zJKp3Jcoq523",
        "colab_type": "code",
        "colab": {}
      },
      "source": [
        "temp_input=list(x_input)\n",
        "temp_input=temp_input[0].tolist()"
      ],
      "execution_count": 0,
      "outputs": []
    },
    {
      "cell_type": "code",
      "metadata": {
        "id": "O2nwlc3-q53A",
        "colab_type": "code",
        "outputId": "ee6a89e2-e07b-4e63-8d0c-ab8ca4ef2f17",
        "colab": {
          "base_uri": "https://localhost:8080/",
          "height": 161
        }
      },
      "source": [
        "temp_input"
      ],
      "execution_count": 0,
      "outputs": [
        {
          "output_type": "error",
          "ename": "NameError",
          "evalue": "ignored",
          "traceback": [
            "\u001b[0;31m---------------------------------------------------------------------------\u001b[0m",
            "\u001b[0;31mNameError\u001b[0m                                 Traceback (most recent call last)",
            "\u001b[0;32m<ipython-input-42-7ed63987858c>\u001b[0m in \u001b[0;36m<module>\u001b[0;34m()\u001b[0m\n\u001b[0;32m----> 1\u001b[0;31m \u001b[0mtemp_input\u001b[0m\u001b[0;34m\u001b[0m\u001b[0;34m\u001b[0m\u001b[0m\n\u001b[0m",
            "\u001b[0;31mNameError\u001b[0m: name 'temp_input' is not defined"
          ]
        }
      ]
    },
    {
      "cell_type": "code",
      "metadata": {
        "id": "cgTU8kj3q53Q",
        "colab_type": "code",
        "outputId": "5d8fa746-1e7d-4bfa-bf12-8d41c6f24641",
        "colab": {
          "base_uri": "https://localhost:8080/",
          "height": 228
        }
      },
      "source": [
        "# demonstrate prediction for next 10 days\n",
        "from numpy import array\n",
        "\n",
        "lst_output=[]\n",
        "n_steps=100\n",
        "i=0\n",
        "while(i<30):\n",
        "    \n",
        "    if(len(temp_input)>100):\n",
        "        #print(temp_input)\n",
        "        x_input=np.array(temp_input[1:])\n",
        "        print(\"{} day input {}\".format(i,x_input))\n",
        "        x_input=x_input.reshape(1,-1)\n",
        "        x_input = x_input.reshape((1, n_steps, 1))\n",
        "        #print(x_input)\n",
        "        yhat = model.predict(x_input, verbose=0)\n",
        "        print(\"{} day output {}\".format(i,yhat))\n",
        "        temp_input.extend(yhat[0].tolist())\n",
        "        temp_input=temp_input[1:]\n",
        "        #print(temp_input)\n",
        "        lst_output.extend(yhat.tolist())\n",
        "        i=i+1\n",
        "    else:\n",
        "        x_input = x_input.reshape((1, n_steps,1))\n",
        "        yhat = model.predict(x_input, verbose=0)\n",
        "        print(yhat[0])\n",
        "        temp_input.extend(yhat[0].tolist())\n",
        "        print(len(temp_input))\n",
        "        lst_output.extend(yhat.tolist())\n",
        "        i=i+1\n",
        "    \n",
        "\n",
        "print(lst_output)"
      ],
      "execution_count": 0,
      "outputs": [
        {
          "output_type": "error",
          "ename": "NameError",
          "evalue": "ignored",
          "traceback": [
            "\u001b[0;31m---------------------------------------------------------------------------\u001b[0m",
            "\u001b[0;31mNameError\u001b[0m                                 Traceback (most recent call last)",
            "\u001b[0;32m<ipython-input-43-b8544ff16353>\u001b[0m in \u001b[0;36m<module>\u001b[0;34m()\u001b[0m\n\u001b[1;32m      7\u001b[0m \u001b[0;32mwhile\u001b[0m\u001b[0;34m(\u001b[0m\u001b[0mi\u001b[0m\u001b[0;34m<\u001b[0m\u001b[0;36m30\u001b[0m\u001b[0;34m)\u001b[0m\u001b[0;34m:\u001b[0m\u001b[0;34m\u001b[0m\u001b[0;34m\u001b[0m\u001b[0m\n\u001b[1;32m      8\u001b[0m \u001b[0;34m\u001b[0m\u001b[0m\n\u001b[0;32m----> 9\u001b[0;31m     \u001b[0;32mif\u001b[0m\u001b[0;34m(\u001b[0m\u001b[0mlen\u001b[0m\u001b[0;34m(\u001b[0m\u001b[0mtemp_input\u001b[0m\u001b[0;34m)\u001b[0m\u001b[0;34m>\u001b[0m\u001b[0;36m100\u001b[0m\u001b[0;34m)\u001b[0m\u001b[0;34m:\u001b[0m\u001b[0;34m\u001b[0m\u001b[0;34m\u001b[0m\u001b[0m\n\u001b[0m\u001b[1;32m     10\u001b[0m         \u001b[0;31m#print(temp_input)\u001b[0m\u001b[0;34m\u001b[0m\u001b[0;34m\u001b[0m\u001b[0;34m\u001b[0m\u001b[0m\n\u001b[1;32m     11\u001b[0m         \u001b[0mx_input\u001b[0m\u001b[0;34m=\u001b[0m\u001b[0mnp\u001b[0m\u001b[0;34m.\u001b[0m\u001b[0marray\u001b[0m\u001b[0;34m(\u001b[0m\u001b[0mtemp_input\u001b[0m\u001b[0;34m[\u001b[0m\u001b[0;36m1\u001b[0m\u001b[0;34m:\u001b[0m\u001b[0;34m]\u001b[0m\u001b[0;34m)\u001b[0m\u001b[0;34m\u001b[0m\u001b[0;34m\u001b[0m\u001b[0m\n",
            "\u001b[0;31mNameError\u001b[0m: name 'temp_input' is not defined"
          ]
        }
      ]
    },
    {
      "cell_type": "code",
      "metadata": {
        "id": "rOnGHzT9q53c",
        "colab_type": "code",
        "colab": {}
      },
      "source": [
        "day_new=np.arange(1,101)\n",
        "day_pred=np.arange(101,131)"
      ],
      "execution_count": 0,
      "outputs": []
    },
    {
      "cell_type": "code",
      "metadata": {
        "id": "3N8rS6TCq53u",
        "colab_type": "code",
        "colab": {}
      },
      "source": [
        "import matplotlib.pyplot as plt"
      ],
      "execution_count": 0,
      "outputs": []
    },
    {
      "cell_type": "code",
      "metadata": {
        "id": "MNhfhGsoq537",
        "colab_type": "code",
        "outputId": "8a249530-818e-44b5-bf35-68d5461e9c80",
        "colab": {
          "base_uri": "https://localhost:8080/",
          "height": 33
        }
      },
      "source": [
        "len(df1)"
      ],
      "execution_count": 0,
      "outputs": [
        {
          "output_type": "execute_result",
          "data": {
            "text/plain": [
              "1229"
            ]
          },
          "metadata": {
            "tags": []
          },
          "execution_count": 46
        }
      ]
    },
    {
      "cell_type": "code",
      "metadata": {
        "id": "1xrbGeNQq54K",
        "colab_type": "code",
        "colab": {}
      },
      "source": [
        ""
      ],
      "execution_count": 0,
      "outputs": []
    },
    {
      "cell_type": "code",
      "metadata": {
        "id": "tK1quAT-q54R",
        "colab_type": "code",
        "outputId": "29eadcb2-a7af-405a-a21a-6214b405f90a",
        "colab": {
          "base_uri": "https://localhost:8080/",
          "height": 572
        }
      },
      "source": [
        "plt.plot(day_new,scaler.inverse_transform(df1[1158:]))\n",
        "plt.plot(day_pred,scaler.inverse_transform(lst_output))"
      ],
      "execution_count": 0,
      "outputs": [
        {
          "output_type": "error",
          "ename": "ValueError",
          "evalue": "ignored",
          "traceback": [
            "\u001b[0;31m---------------------------------------------------------------------------\u001b[0m",
            "\u001b[0;31mValueError\u001b[0m                                Traceback (most recent call last)",
            "\u001b[0;32m<ipython-input-47-f7a6cd20cb29>\u001b[0m in \u001b[0;36m<module>\u001b[0;34m()\u001b[0m\n\u001b[0;32m----> 1\u001b[0;31m \u001b[0mplt\u001b[0m\u001b[0;34m.\u001b[0m\u001b[0mplot\u001b[0m\u001b[0;34m(\u001b[0m\u001b[0mday_new\u001b[0m\u001b[0;34m,\u001b[0m\u001b[0mscaler\u001b[0m\u001b[0;34m.\u001b[0m\u001b[0minverse_transform\u001b[0m\u001b[0;34m(\u001b[0m\u001b[0mdf1\u001b[0m\u001b[0;34m[\u001b[0m\u001b[0;36m1158\u001b[0m\u001b[0;34m:\u001b[0m\u001b[0;34m]\u001b[0m\u001b[0;34m)\u001b[0m\u001b[0;34m)\u001b[0m\u001b[0;34m\u001b[0m\u001b[0;34m\u001b[0m\u001b[0m\n\u001b[0m\u001b[1;32m      2\u001b[0m \u001b[0mplt\u001b[0m\u001b[0;34m.\u001b[0m\u001b[0mplot\u001b[0m\u001b[0;34m(\u001b[0m\u001b[0mday_pred\u001b[0m\u001b[0;34m,\u001b[0m\u001b[0mscaler\u001b[0m\u001b[0;34m.\u001b[0m\u001b[0minverse_transform\u001b[0m\u001b[0;34m(\u001b[0m\u001b[0mlst_output\u001b[0m\u001b[0;34m)\u001b[0m\u001b[0;34m)\u001b[0m\u001b[0;34m\u001b[0m\u001b[0;34m\u001b[0m\u001b[0m\n",
            "\u001b[0;32m/usr/local/lib/python3.6/dist-packages/matplotlib/pyplot.py\u001b[0m in \u001b[0;36mplot\u001b[0;34m(scalex, scaley, data, *args, **kwargs)\u001b[0m\n\u001b[1;32m   2761\u001b[0m     return gca().plot(\n\u001b[1;32m   2762\u001b[0m         *args, scalex=scalex, scaley=scaley, **({\"data\": data} if data\n\u001b[0;32m-> 2763\u001b[0;31m         is not None else {}), **kwargs)\n\u001b[0m\u001b[1;32m   2764\u001b[0m \u001b[0;34m\u001b[0m\u001b[0m\n\u001b[1;32m   2765\u001b[0m \u001b[0;34m\u001b[0m\u001b[0m\n",
            "\u001b[0;32m/usr/local/lib/python3.6/dist-packages/matplotlib/axes/_axes.py\u001b[0m in \u001b[0;36mplot\u001b[0;34m(self, scalex, scaley, data, *args, **kwargs)\u001b[0m\n\u001b[1;32m   1644\u001b[0m         \"\"\"\n\u001b[1;32m   1645\u001b[0m         \u001b[0mkwargs\u001b[0m \u001b[0;34m=\u001b[0m \u001b[0mcbook\u001b[0m\u001b[0;34m.\u001b[0m\u001b[0mnormalize_kwargs\u001b[0m\u001b[0;34m(\u001b[0m\u001b[0mkwargs\u001b[0m\u001b[0;34m,\u001b[0m \u001b[0mmlines\u001b[0m\u001b[0;34m.\u001b[0m\u001b[0mLine2D\u001b[0m\u001b[0;34m)\u001b[0m\u001b[0;34m\u001b[0m\u001b[0;34m\u001b[0m\u001b[0m\n\u001b[0;32m-> 1646\u001b[0;31m         \u001b[0mlines\u001b[0m \u001b[0;34m=\u001b[0m \u001b[0;34m[\u001b[0m\u001b[0;34m*\u001b[0m\u001b[0mself\u001b[0m\u001b[0;34m.\u001b[0m\u001b[0m_get_lines\u001b[0m\u001b[0;34m(\u001b[0m\u001b[0;34m*\u001b[0m\u001b[0margs\u001b[0m\u001b[0;34m,\u001b[0m \u001b[0mdata\u001b[0m\u001b[0;34m=\u001b[0m\u001b[0mdata\u001b[0m\u001b[0;34m,\u001b[0m \u001b[0;34m**\u001b[0m\u001b[0mkwargs\u001b[0m\u001b[0;34m)\u001b[0m\u001b[0;34m]\u001b[0m\u001b[0;34m\u001b[0m\u001b[0;34m\u001b[0m\u001b[0m\n\u001b[0m\u001b[1;32m   1647\u001b[0m         \u001b[0;32mfor\u001b[0m \u001b[0mline\u001b[0m \u001b[0;32min\u001b[0m \u001b[0mlines\u001b[0m\u001b[0;34m:\u001b[0m\u001b[0;34m\u001b[0m\u001b[0;34m\u001b[0m\u001b[0m\n\u001b[1;32m   1648\u001b[0m             \u001b[0mself\u001b[0m\u001b[0;34m.\u001b[0m\u001b[0madd_line\u001b[0m\u001b[0;34m(\u001b[0m\u001b[0mline\u001b[0m\u001b[0;34m)\u001b[0m\u001b[0;34m\u001b[0m\u001b[0;34m\u001b[0m\u001b[0m\n",
            "\u001b[0;32m/usr/local/lib/python3.6/dist-packages/matplotlib/axes/_base.py\u001b[0m in \u001b[0;36m__call__\u001b[0;34m(self, *args, **kwargs)\u001b[0m\n\u001b[1;32m    214\u001b[0m                 \u001b[0mthis\u001b[0m \u001b[0;34m+=\u001b[0m \u001b[0margs\u001b[0m\u001b[0;34m[\u001b[0m\u001b[0;36m0\u001b[0m\u001b[0;34m]\u001b[0m\u001b[0;34m,\u001b[0m\u001b[0;34m\u001b[0m\u001b[0;34m\u001b[0m\u001b[0m\n\u001b[1;32m    215\u001b[0m                 \u001b[0margs\u001b[0m \u001b[0;34m=\u001b[0m \u001b[0margs\u001b[0m\u001b[0;34m[\u001b[0m\u001b[0;36m1\u001b[0m\u001b[0;34m:\u001b[0m\u001b[0;34m]\u001b[0m\u001b[0;34m\u001b[0m\u001b[0;34m\u001b[0m\u001b[0m\n\u001b[0;32m--> 216\u001b[0;31m             \u001b[0;32myield\u001b[0m \u001b[0;32mfrom\u001b[0m \u001b[0mself\u001b[0m\u001b[0;34m.\u001b[0m\u001b[0m_plot_args\u001b[0m\u001b[0;34m(\u001b[0m\u001b[0mthis\u001b[0m\u001b[0;34m,\u001b[0m \u001b[0mkwargs\u001b[0m\u001b[0;34m)\u001b[0m\u001b[0;34m\u001b[0m\u001b[0;34m\u001b[0m\u001b[0m\n\u001b[0m\u001b[1;32m    217\u001b[0m \u001b[0;34m\u001b[0m\u001b[0m\n\u001b[1;32m    218\u001b[0m     \u001b[0;32mdef\u001b[0m \u001b[0mget_next_color\u001b[0m\u001b[0;34m(\u001b[0m\u001b[0mself\u001b[0m\u001b[0;34m)\u001b[0m\u001b[0;34m:\u001b[0m\u001b[0;34m\u001b[0m\u001b[0;34m\u001b[0m\u001b[0m\n",
            "\u001b[0;32m/usr/local/lib/python3.6/dist-packages/matplotlib/axes/_base.py\u001b[0m in \u001b[0;36m_plot_args\u001b[0;34m(self, tup, kwargs)\u001b[0m\n\u001b[1;32m    340\u001b[0m \u001b[0;34m\u001b[0m\u001b[0m\n\u001b[1;32m    341\u001b[0m         \u001b[0;32mif\u001b[0m \u001b[0mx\u001b[0m\u001b[0;34m.\u001b[0m\u001b[0mshape\u001b[0m\u001b[0;34m[\u001b[0m\u001b[0;36m0\u001b[0m\u001b[0;34m]\u001b[0m \u001b[0;34m!=\u001b[0m \u001b[0my\u001b[0m\u001b[0;34m.\u001b[0m\u001b[0mshape\u001b[0m\u001b[0;34m[\u001b[0m\u001b[0;36m0\u001b[0m\u001b[0;34m]\u001b[0m\u001b[0;34m:\u001b[0m\u001b[0;34m\u001b[0m\u001b[0;34m\u001b[0m\u001b[0m\n\u001b[0;32m--> 342\u001b[0;31m             raise ValueError(f\"x and y must have same first dimension, but \"\n\u001b[0m\u001b[1;32m    343\u001b[0m                              f\"have shapes {x.shape} and {y.shape}\")\n\u001b[1;32m    344\u001b[0m         \u001b[0;32mif\u001b[0m \u001b[0mx\u001b[0m\u001b[0;34m.\u001b[0m\u001b[0mndim\u001b[0m \u001b[0;34m>\u001b[0m \u001b[0;36m2\u001b[0m \u001b[0;32mor\u001b[0m \u001b[0my\u001b[0m\u001b[0;34m.\u001b[0m\u001b[0mndim\u001b[0m \u001b[0;34m>\u001b[0m \u001b[0;36m2\u001b[0m\u001b[0;34m:\u001b[0m\u001b[0;34m\u001b[0m\u001b[0;34m\u001b[0m\u001b[0m\n",
            "\u001b[0;31mValueError\u001b[0m: x and y must have same first dimension, but have shapes (100,) and (71, 1)"
          ]
        },
        {
          "output_type": "display_data",
          "data": {
            "image/png": "[encoded data removed]",
            "text/plain": [
              "<Figure size 432x288 with 1 Axes>"
            ]
          },
          "metadata": {
            "tags": [],
            "needs_background": "light"
          }
        }
      ]
    },
    {
      "cell_type": "code",
      "metadata": {
        "id": "WawBBoRtq54a",
        "colab_type": "code",
        "outputId": "db0556f3-f780-4ef7-d6ae-7054906018db",
        "colab": {
          "base_uri": "https://localhost:8080/",
          "height": 283
        }
      },
      "source": [
        "df3=df1.tolist()\n",
        "df3.extend(lst_output)\n",
        "plt.plot(df3[1200:])"
      ],
      "execution_count": 0,
      "outputs": [
        {
          "output_type": "execute_result",
          "data": {
            "text/plain": [
              "[<matplotlib.lines.Line2D at 0x7fdea41b70b8>]"
            ]
          },
          "metadata": {
            "tags": []
          },
          "execution_count": 48
        },
        {
          "output_type": "display_data",
          "data": {
            "image/png": "[encoded data removed]",
            "text/plain": [
              "<Figure size 432x288 with 1 Axes>"
            ]
          },
          "metadata": {
            "tags": [],
            "needs_background": "light"
          }
        }
      ]
    },
    {
      "cell_type": "code",
      "metadata": {
        "id": "5Hwmxzdwq54h",
        "colab_type": "code",
        "colab": {}
      },
      "source": [
        "df3=scaler.inverse_transform(df3).tolist()"
      ],
      "execution_count": 0,
      "outputs": []
    },
    {
      "cell_type": "code",
      "metadata": {
        "id": "RomWtVVpq54q",
        "colab_type": "code",
        "outputId": "0b01ee57-bc48-4528-fd37-51226f4382c7",
        "colab": {
          "base_uri": "https://localhost:8080/",
          "height": 281
        }
      },
      "source": [
        "plt.plot(df3)"
      ],
      "execution_count": 0,
      "outputs": [
        {
          "output_type": "execute_result",
          "data": {
            "text/plain": [
              "[<matplotlib.lines.Line2D at 0x7fdea414b9e8>]"
            ]
          },
          "metadata": {
            "tags": []
          },
          "execution_count": 50
        },
        {
          "output_type": "display_data",
          "data": {
            "image/png": "[encoded data removed]",
            "text/plain": [
              "<Figure size 432x288 with 1 Axes>"
            ]
          },
          "metadata": {
            "tags": [],
            "needs_background": "light"
          }
        }
      ]
    },
    {
      "cell_type": "code",
      "metadata": {
        "id": "3W2RmKtbq548",
        "colab_type": "code",
        "colab": {}
      },
      "source": [
        ""
      ],
      "execution_count": 0,
      "outputs": []
    }
  ]
}